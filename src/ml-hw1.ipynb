{
 "cells": [
  {
   "cell_type": "markdown",
   "id": "59f2718e",
   "metadata": {},
   "source": [
    "## HW1"
   ]
  },
  {
   "cell_type": "markdown",
   "id": "2ee7ef92",
   "metadata": {},
   "source": [
    "## Part A\n",
    "## 1 Find the url for the mtcars dataset from the following website:\n",
    "\n",
    "https://vincentarelbundock.github.io/Rdatasets/datasets.html\n",
    "\n",
    "Read through the \"DOC\" file to understand the variables in the dataset, then use the following url to import the data using pandas read_csv function.  "
   ]
  },
  {
   "cell_type": "code",
   "execution_count": 3,
   "id": "f6121657",
   "metadata": {},
   "outputs": [],
   "source": [
    "import pandas as pd\n",
    "url = \"https://vincentarelbundock.github.io/Rdatasets/csv/datasets/mtcars.csv\"\n",
    "df=pd.read_csv(url)"
   ]
  },
  {
   "cell_type": "markdown",
   "id": "cdc2ea04",
   "metadata": {},
   "source": [
    "## 2  Display the first five rows of the data."
   ]
  },
  {
   "cell_type": "code",
   "execution_count": 4,
   "id": "6dddb72c",
   "metadata": {},
   "outputs": [
    {
     "data": {
      "text/html": [
       "<div>\n",
       "<style scoped>\n",
       "    .dataframe tbody tr th:only-of-type {\n",
       "        vertical-align: middle;\n",
       "    }\n",
       "\n",
       "    .dataframe tbody tr th {\n",
       "        vertical-align: top;\n",
       "    }\n",
       "\n",
       "    .dataframe thead th {\n",
       "        text-align: right;\n",
       "    }\n",
       "</style>\n",
       "<table border=\"1\" class=\"dataframe\">\n",
       "  <thead>\n",
       "    <tr style=\"text-align: right;\">\n",
       "      <th></th>\n",
       "      <th>rownames</th>\n",
       "      <th>mpg</th>\n",
       "      <th>cyl</th>\n",
       "      <th>disp</th>\n",
       "      <th>hp</th>\n",
       "      <th>drat</th>\n",
       "      <th>wt</th>\n",
       "      <th>qsec</th>\n",
       "      <th>vs</th>\n",
       "      <th>am</th>\n",
       "      <th>gear</th>\n",
       "      <th>carb</th>\n",
       "    </tr>\n",
       "  </thead>\n",
       "  <tbody>\n",
       "    <tr>\n",
       "      <th>0</th>\n",
       "      <td>Mazda RX4</td>\n",
       "      <td>21.0</td>\n",
       "      <td>6</td>\n",
       "      <td>160.0</td>\n",
       "      <td>110</td>\n",
       "      <td>3.90</td>\n",
       "      <td>2.620</td>\n",
       "      <td>16.46</td>\n",
       "      <td>0</td>\n",
       "      <td>1</td>\n",
       "      <td>4</td>\n",
       "      <td>4</td>\n",
       "    </tr>\n",
       "    <tr>\n",
       "      <th>1</th>\n",
       "      <td>Mazda RX4 Wag</td>\n",
       "      <td>21.0</td>\n",
       "      <td>6</td>\n",
       "      <td>160.0</td>\n",
       "      <td>110</td>\n",
       "      <td>3.90</td>\n",
       "      <td>2.875</td>\n",
       "      <td>17.02</td>\n",
       "      <td>0</td>\n",
       "      <td>1</td>\n",
       "      <td>4</td>\n",
       "      <td>4</td>\n",
       "    </tr>\n",
       "    <tr>\n",
       "      <th>2</th>\n",
       "      <td>Datsun 710</td>\n",
       "      <td>22.8</td>\n",
       "      <td>4</td>\n",
       "      <td>108.0</td>\n",
       "      <td>93</td>\n",
       "      <td>3.85</td>\n",
       "      <td>2.320</td>\n",
       "      <td>18.61</td>\n",
       "      <td>1</td>\n",
       "      <td>1</td>\n",
       "      <td>4</td>\n",
       "      <td>1</td>\n",
       "    </tr>\n",
       "    <tr>\n",
       "      <th>3</th>\n",
       "      <td>Hornet 4 Drive</td>\n",
       "      <td>21.4</td>\n",
       "      <td>6</td>\n",
       "      <td>258.0</td>\n",
       "      <td>110</td>\n",
       "      <td>3.08</td>\n",
       "      <td>3.215</td>\n",
       "      <td>19.44</td>\n",
       "      <td>1</td>\n",
       "      <td>0</td>\n",
       "      <td>3</td>\n",
       "      <td>1</td>\n",
       "    </tr>\n",
       "    <tr>\n",
       "      <th>4</th>\n",
       "      <td>Hornet Sportabout</td>\n",
       "      <td>18.7</td>\n",
       "      <td>8</td>\n",
       "      <td>360.0</td>\n",
       "      <td>175</td>\n",
       "      <td>3.15</td>\n",
       "      <td>3.440</td>\n",
       "      <td>17.02</td>\n",
       "      <td>0</td>\n",
       "      <td>0</td>\n",
       "      <td>3</td>\n",
       "      <td>2</td>\n",
       "    </tr>\n",
       "  </tbody>\n",
       "</table>\n",
       "</div>"
      ],
      "text/plain": [
       "            rownames   mpg  cyl   disp   hp  drat     wt   qsec  vs  am  gear  \\\n",
       "0          Mazda RX4  21.0    6  160.0  110  3.90  2.620  16.46   0   1     4   \n",
       "1      Mazda RX4 Wag  21.0    6  160.0  110  3.90  2.875  17.02   0   1     4   \n",
       "2         Datsun 710  22.8    4  108.0   93  3.85  2.320  18.61   1   1     4   \n",
       "3     Hornet 4 Drive  21.4    6  258.0  110  3.08  3.215  19.44   1   0     3   \n",
       "4  Hornet Sportabout  18.7    8  360.0  175  3.15  3.440  17.02   0   0     3   \n",
       "\n",
       "   carb  \n",
       "0     4  \n",
       "1     4  \n",
       "2     1  \n",
       "3     1  \n",
       "4     2  "
      ]
     },
     "execution_count": 4,
     "metadata": {},
     "output_type": "execute_result"
    }
   ],
   "source": [
    "df.head()"
   ]
  },
  {
   "cell_type": "markdown",
   "id": "06464d2a",
   "metadata": {},
   "source": [
    "## 3  Calculate the average of the mpg column for all cars within each category of the cyl column."
   ]
  },
  {
   "cell_type": "code",
   "execution_count": 5,
   "id": "46d7926c",
   "metadata": {},
   "outputs": [
    {
     "data": {
      "text/plain": [
       "cyl\n",
       "4    26.663636\n",
       "6    19.742857\n",
       "8    15.100000\n",
       "Name: mpg, dtype: float64"
      ]
     },
     "execution_count": 5,
     "metadata": {},
     "output_type": "execute_result"
    }
   ],
   "source": [
    "average_mpg_bycyl=df.groupby('cyl')['mpg'].mean()\n",
    "average_mpg_bycyl"
   ]
  },
  {
   "cell_type": "markdown",
   "id": "14bef228",
   "metadata": {},
   "source": [
    "## 4  Create a histogram using the mpg column"
   ]
  },
  {
   "cell_type": "code",
   "execution_count": 6,
   "id": "e96a5f02",
   "metadata": {},
   "outputs": [
    {
     "data": {
      "image/png": "[encoded data removed]",
      "text/plain": [
       "<Figure size 640x480 with 1 Axes>"
      ]
     },
     "metadata": {},
     "output_type": "display_data"
    }
   ],
   "source": [
    "from matplotlib import pyplot as plt \n",
    "plt.hist(df['mpg'])\n",
    "plt.xlabel('Miles per Gallon (mpg)')\n",
    "plt.ylabel('Frequency')\n",
    "plt.title('Histogram of mpg')\n",
    "plt.show()"
   ]
  },
  {
   "cell_type": "markdown",
   "id": "4daf2634",
   "metadata": {},
   "source": [
    "## 5 Choose two variables in the data and create a scatterplot."
   ]
  },
  {
   "cell_type": "code",
   "execution_count": 13,
   "id": "a9ac721b",
   "metadata": {},
   "outputs": [
    {
     "data": {
      "image/png": "[encoded data removed]",
      "text/plain": [
       "<Figure size 640x480 with 1 Axes>"
      ]
     },
     "metadata": {},
     "output_type": "display_data"
    }
   ],
   "source": [
    "plt.scatter(df['mpg'], df['hp'])\n",
    "plt.xlabel('Miles per Gallon (mpg)')\n",
    "plt.ylabel('Horsepower (hp)')\n",
    "plt.title('Scatterplot of MPG vs. Horsepower')\n",
    "plt.show()"
   ]
  },
  {
   "cell_type": "markdown",
   "id": "2948dda5",
   "metadata": {},
   "source": [
    "## Part B\n",
    "\n",
    "## 1. Find a tabular dataset that interests you that has \"tidy\" data.  (Tidy data has data that is ready for your data analysis.  For our tasks we want data with columns representing X and y data where columns represent variables and rows representing non repeating observations.  Give a brief description of the dataset.  Provide a citation of the dataset (any format is fine.)"
   ]
  },
  {
   "cell_type": "code",
   "execution_count": 3,
   "id": "cbc24aa1",
   "metadata": {},
   "outputs": [],
   "source": [
    "url = \"https://vincentarelbundock.github.io/Rdatasets/csv/AER/CPSSWEducation.csv\"\n",
    "CPSSWE = pd.read_csv(url)"
   ]
  },
  {
   "cell_type": "markdown",
   "id": "31ca6d1d",
   "metadata": {},
   "source": [
    "The dataset \"CPSSWEducation\" contains data on the relationship of earnings and education over several year, containing 2,950 observations on 4 variables.In this dataset, each variable forms a column, each observation forms a row, each type of observational unit forms a table, So it has tidy data based on the structure of the data.\n",
    "Retrieved from https://vincentarelbundock.github.io/Rdatasets/csv/AER/CPSSWEducation.csv"
   ]
  },
  {
   "cell_type": "markdown",
   "id": "168013f8",
   "metadata": {},
   "source": [
    "## 2 Display the first five rows of the data."
   ]
  },
  {
   "cell_type": "code",
   "execution_count": 4,
   "id": "6d58c30f",
   "metadata": {},
   "outputs": [
    {
     "data": {
      "text/html": [
       "<div>\n",
       "<style scoped>\n",
       "    .dataframe tbody tr th:only-of-type {\n",
       "        vertical-align: middle;\n",
       "    }\n",
       "\n",
       "    .dataframe tbody tr th {\n",
       "        vertical-align: top;\n",
       "    }\n",
       "\n",
       "    .dataframe thead th {\n",
       "        text-align: right;\n",
       "    }\n",
       "</style>\n",
       "<table border=\"1\" class=\"dataframe\">\n",
       "  <thead>\n",
       "    <tr style=\"text-align: right;\">\n",
       "      <th></th>\n",
       "      <th>rownames</th>\n",
       "      <th>age</th>\n",
       "      <th>gender</th>\n",
       "      <th>earnings</th>\n",
       "      <th>education</th>\n",
       "    </tr>\n",
       "  </thead>\n",
       "  <tbody>\n",
       "    <tr>\n",
       "      <th>0</th>\n",
       "      <td>1</td>\n",
       "      <td>30</td>\n",
       "      <td>male</td>\n",
       "      <td>34.615383</td>\n",
       "      <td>16</td>\n",
       "    </tr>\n",
       "    <tr>\n",
       "      <th>1</th>\n",
       "      <td>2</td>\n",
       "      <td>30</td>\n",
       "      <td>female</td>\n",
       "      <td>19.230770</td>\n",
       "      <td>16</td>\n",
       "    </tr>\n",
       "    <tr>\n",
       "      <th>2</th>\n",
       "      <td>3</td>\n",
       "      <td>30</td>\n",
       "      <td>female</td>\n",
       "      <td>13.736263</td>\n",
       "      <td>12</td>\n",
       "    </tr>\n",
       "    <tr>\n",
       "      <th>3</th>\n",
       "      <td>4</td>\n",
       "      <td>30</td>\n",
       "      <td>female</td>\n",
       "      <td>13.942307</td>\n",
       "      <td>13</td>\n",
       "    </tr>\n",
       "    <tr>\n",
       "      <th>4</th>\n",
       "      <td>5</td>\n",
       "      <td>30</td>\n",
       "      <td>female</td>\n",
       "      <td>19.230770</td>\n",
       "      <td>16</td>\n",
       "    </tr>\n",
       "  </tbody>\n",
       "</table>\n",
       "</div>"
      ],
      "text/plain": [
       "   rownames  age  gender   earnings  education\n",
       "0         1   30    male  34.615383         16\n",
       "1         2   30  female  19.230770         16\n",
       "2         3   30  female  13.736263         12\n",
       "3         4   30  female  13.942307         13\n",
       "4         5   30  female  19.230770         16"
      ]
     },
     "execution_count": 4,
     "metadata": {},
     "output_type": "execute_result"
    }
   ],
   "source": [
    "CPSSWE.head()"
   ]
  },
  {
   "cell_type": "markdown",
   "id": "bb5ba78e",
   "metadata": {},
   "source": [
    "## 3 Create a visualization using one (or two) variables from this data."
   ]
  },
  {
   "cell_type": "code",
   "execution_count": 12,
   "id": "02607986",
   "metadata": {},
   "outputs": [
    {
     "data": {
      "image/png": "[encoded data removed]",
      "text/plain": [
       "<Figure size 640x480 with 1 Axes>"
      ]
     },
     "metadata": {},
     "output_type": "display_data"
    }
   ],
   "source": [
    "from matplotlib import pyplot as plt \n",
    "plt.scatter(CPSSWE[\"education\"],CPSSWE[\"earnings\"],color='green',marker='o',linestyle='solid')\n",
    "plt.title(\"Relationship of earnings and education\")\n",
    "plt.ylabel(\"Billions of $\")\n",
    "plt.show() "
   ]
  }
 ],
 "metadata": {
  "kernelspec": {
   "display_name": "Python 3 (ipykernel)",
   "language": "python",
   "name": "python3"
  },
  "language_info": {
   "codemirror_mode": {
    "name": "ipython",
    "version": 3
   },
   "file_extension": ".py",
   "mimetype": "text/x-python",
   "name": "python",
   "nbconvert_exporter": "python",
   "pygments_lexer": "ipython3",
   "version": "3.11.4"
  }
 },
 "nbformat": 4,
 "nbformat_minor": 5
}
